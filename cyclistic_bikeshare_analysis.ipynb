{
 "cells": [
  {
   "cell_type": "markdown",
   "metadata": {},
   "source": [
    "# Case Study: How Does a Bike-Share Navigate Speedy Success?"
   ]
  },
  {
   "cell_type": "markdown",
   "metadata": {},
   "source": [
    "This case study is the capstone assignment for the [Google Data Analytics Professional Certificate](https://www.coursera.org/professional-certificates/google-data-analytics) program. Here we assume the role of data analyst working in the marketing analyst team at Cyclistic, a bike-share company in Chicago."
   ]
  },
  {
   "cell_type": "markdown",
   "metadata": {},
   "source": [
    "## Scenario"
   ]
  },
  {
   "cell_type": "markdown",
   "metadata": {},
   "source": [
    "### About the Company"
   ]
  },
  {
   "cell_type": "markdown",
   "metadata": {},
   "source": [
    "<b>Cyclistic</b> is a bike-share company that features more than 5,800 bicycles and 600 docking stations. Until now, Cyclistic’s marketing strategy relied on building general awareness and appealing to broad consumer segments by providing three different pricing plans: single-ride passes, full-day  passes, and  annual  memberships.  Customers  who  purchase  single-ride or  full-day  passes  are  referred  to  as  casual  riders. Customers who  purchase  annual  memberships  are  Cyclistic  members. "
   ]
  },
  {
   "cell_type": "markdown",
   "metadata": {},
   "source": [
    "### Analysis objective"
   ]
  },
  {
   "cell_type": "markdown",
   "metadata": {},
   "source": [
    "Cyclistic’s ﬁnance analysts have concluded that annual members are much more proﬁtable than casual riders. Although the \n",
    "pricing ﬂexibility helps Cyclistic attract more customers, the director of marketing believes that maximizing the number of annual members will be key to future growth, thus, rather than creating a marketing campaign that targets all-new customers, they should focus on converting casual riders into members. In order to do that, first, we need to answer the question: <b>\"How  do  annual members and casual riders use Cyclistic bikes?\"</b>"
   ]
  },
  {
   "cell_type": "markdown",
   "metadata": {},
   "source": [
    "### Data information "
   ]
  },
  {
   "cell_type": "markdown",
   "metadata": {},
   "source": [
    "We will use [Cyclistic’s historical trip data](https://divvy-tripdata.s3.amazonaws.com/index.html) to analyze and identify trends in users' behavior. The data record the details of every ride logged by the customers of Cyclistic in monthly period. We will use the data of 12 previous months from <b>July 2021 to June 2022</b>.\n",
    "\n",
    "Due to data-privacy issues, we won’t be able to connect pass purchases to credit card numbers to determine if casual riders live in the Cyclistic service area or if they have purchased multiple single passes. \n",
    "\n",
    "(Note: The datasets have a diﬀerent name because Cyclistic is a ﬁctional company. The data has been made available by Motivate International Inc. under this [license](https://ride.divvybikes.com/data-license-agreement>).)"
   ]
  },
  {
   "cell_type": "markdown",
   "metadata": {
    "tags": []
   },
   "source": [
    "## Prepare the data"
   ]
  },
  {
   "cell_type": "markdown",
   "metadata": {},
   "source": [
    "### Import data"
   ]
  },
  {
   "cell_type": "markdown",
   "metadata": {},
   "source": [
    "The 12-month historical trip data (in CSV format) are extracted and stored in one folder titled “trip_data”. We will merge the 12 CSV files into one dataframe called “df”."
   ]
  },
  {
   "cell_type": "code",
   "execution_count": 1,
   "metadata": {},
   "outputs": [],
   "source": [
    "# import necessary libraries\n",
    "import pandas as pd\n",
    "import numpy as np\n",
    "import matplotlib.pyplot as plt\n",
    "import seaborn as sns\n",
    "import datetime as dt\n",
    "import glob\n",
    "from matplotlib.ticker import StrMethodFormatter"
   ]
  },
  {
   "cell_type": "code",
   "execution_count": 2,
   "metadata": {},
   "outputs": [
    {
     "name": "stdout",
     "output_type": "stream",
     "text": [
      "['trip_data\\\\202107-divvy-tripdata.csv', 'trip_data\\\\202108-divvy-tripdata.csv', 'trip_data\\\\202109-divvy-tripdata.csv', 'trip_data\\\\202110-divvy-tripdata.csv', 'trip_data\\\\202111-divvy-tripdata.csv', 'trip_data\\\\202112-divvy-tripdata.csv', 'trip_data\\\\202201-divvy-tripdata.csv', 'trip_data\\\\202202-divvy-tripdata.csv', 'trip_data\\\\202203-divvy-tripdata.csv', 'trip_data\\\\202204-divvy-tripdata.csv', 'trip_data\\\\202205-divvy-tripdata.csv', 'trip_data\\\\202206-divvy-tripdata.csv']\n"
     ]
    }
   ],
   "source": [
    "# list of csv files\n",
    "files = glob.glob('trip_data' + \"/*.csv\")\n",
    "print(files)"
   ]
  },
  {
   "cell_type": "code",
   "execution_count": 3,
   "metadata": {},
   "outputs": [],
   "source": [
    "# joining files with concat and read_csv\n",
    "df = pd.concat(map(pd.read_csv, files), ignore_index=True)"
   ]
  },
  {
   "cell_type": "markdown",
   "metadata": {},
   "source": [
    "### Clean up & add data to prepare for analysis"
   ]
  },
  {
   "cell_type": "markdown",
   "metadata": {},
   "source": [
    "Quick view the data using head() and info(). Checking if there are missing values."
   ]
  },
  {
   "cell_type": "code",
   "execution_count": 4,
   "metadata": {},
   "outputs": [
    {
     "data": {
      "text/html": [
       "<div>\n",
       "<style scoped>\n",
       "    .dataframe tbody tr th:only-of-type {\n",
       "        vertical-align: middle;\n",
       "    }\n",
       "\n",
       "    .dataframe tbody tr th {\n",
       "        vertical-align: top;\n",
       "    }\n",
       "\n",
       "    .dataframe thead th {\n",
       "        text-align: right;\n",
       "    }\n",
       "</style>\n",
       "<table border=\"1\" class=\"dataframe\">\n",
       "  <thead>\n",
       "    <tr style=\"text-align: right;\">\n",
       "      <th></th>\n",
       "      <th>ride_id</th>\n",
       "      <th>rideable_type</th>\n",
       "      <th>started_at</th>\n",
       "      <th>ended_at</th>\n",
       "      <th>start_station_name</th>\n",
       "      <th>start_station_id</th>\n",
       "      <th>end_station_name</th>\n",
       "      <th>end_station_id</th>\n",
       "      <th>start_lat</th>\n",
       "      <th>start_lng</th>\n",
       "      <th>end_lat</th>\n",
       "      <th>end_lng</th>\n",
       "      <th>member_casual</th>\n",
       "    </tr>\n",
       "  </thead>\n",
       "  <tbody>\n",
       "    <tr>\n",
       "      <th>0</th>\n",
       "      <td>0A1B623926EF4E16</td>\n",
       "      <td>docked_bike</td>\n",
       "      <td>2021-07-02 14:44:36</td>\n",
       "      <td>2021-07-02 15:19:58</td>\n",
       "      <td>Michigan Ave &amp; Washington St</td>\n",
       "      <td>13001</td>\n",
       "      <td>Halsted St &amp; North Branch St</td>\n",
       "      <td>KA1504000117</td>\n",
       "      <td>41.883984</td>\n",
       "      <td>-87.624684</td>\n",
       "      <td>41.899368</td>\n",
       "      <td>-87.648480</td>\n",
       "      <td>casual</td>\n",
       "    </tr>\n",
       "    <tr>\n",
       "      <th>1</th>\n",
       "      <td>B2D5583A5A5E76EE</td>\n",
       "      <td>classic_bike</td>\n",
       "      <td>2021-07-07 16:57:42</td>\n",
       "      <td>2021-07-07 17:16:09</td>\n",
       "      <td>California Ave &amp; Cortez St</td>\n",
       "      <td>17660</td>\n",
       "      <td>Wood St &amp; Hubbard St</td>\n",
       "      <td>13432</td>\n",
       "      <td>41.900363</td>\n",
       "      <td>-87.696704</td>\n",
       "      <td>41.889899</td>\n",
       "      <td>-87.671473</td>\n",
       "      <td>casual</td>\n",
       "    </tr>\n",
       "    <tr>\n",
       "      <th>2</th>\n",
       "      <td>6F264597DDBF427A</td>\n",
       "      <td>classic_bike</td>\n",
       "      <td>2021-07-25 11:30:55</td>\n",
       "      <td>2021-07-25 11:48:45</td>\n",
       "      <td>Wabash Ave &amp; 16th St</td>\n",
       "      <td>SL-012</td>\n",
       "      <td>Rush St &amp; Hubbard St</td>\n",
       "      <td>KA1503000044</td>\n",
       "      <td>41.860384</td>\n",
       "      <td>-87.625813</td>\n",
       "      <td>41.890173</td>\n",
       "      <td>-87.626185</td>\n",
       "      <td>member</td>\n",
       "    </tr>\n",
       "    <tr>\n",
       "      <th>3</th>\n",
       "      <td>379B58EAB20E8AA5</td>\n",
       "      <td>classic_bike</td>\n",
       "      <td>2021-07-08 22:08:30</td>\n",
       "      <td>2021-07-08 22:23:32</td>\n",
       "      <td>California Ave &amp; Cortez St</td>\n",
       "      <td>17660</td>\n",
       "      <td>Carpenter St &amp; Huron St</td>\n",
       "      <td>13196</td>\n",
       "      <td>41.900363</td>\n",
       "      <td>-87.696704</td>\n",
       "      <td>41.894556</td>\n",
       "      <td>-87.653449</td>\n",
       "      <td>member</td>\n",
       "    </tr>\n",
       "    <tr>\n",
       "      <th>4</th>\n",
       "      <td>6615C1E4EB08E8FB</td>\n",
       "      <td>electric_bike</td>\n",
       "      <td>2021-07-28 16:08:06</td>\n",
       "      <td>2021-07-28 16:27:09</td>\n",
       "      <td>California Ave &amp; Cortez St</td>\n",
       "      <td>17660</td>\n",
       "      <td>Elizabeth (May) St &amp; Fulton St</td>\n",
       "      <td>13197</td>\n",
       "      <td>41.900350</td>\n",
       "      <td>-87.696682</td>\n",
       "      <td>41.886593</td>\n",
       "      <td>-87.658387</td>\n",
       "      <td>casual</td>\n",
       "    </tr>\n",
       "  </tbody>\n",
       "</table>\n",
       "</div>"
      ],
      "text/plain": [
       "            ride_id  rideable_type           started_at             ended_at  \\\n",
       "0  0A1B623926EF4E16    docked_bike  2021-07-02 14:44:36  2021-07-02 15:19:58   \n",
       "1  B2D5583A5A5E76EE   classic_bike  2021-07-07 16:57:42  2021-07-07 17:16:09   \n",
       "2  6F264597DDBF427A   classic_bike  2021-07-25 11:30:55  2021-07-25 11:48:45   \n",
       "3  379B58EAB20E8AA5   classic_bike  2021-07-08 22:08:30  2021-07-08 22:23:32   \n",
       "4  6615C1E4EB08E8FB  electric_bike  2021-07-28 16:08:06  2021-07-28 16:27:09   \n",
       "\n",
       "             start_station_name start_station_id  \\\n",
       "0  Michigan Ave & Washington St            13001   \n",
       "1    California Ave & Cortez St            17660   \n",
       "2          Wabash Ave & 16th St           SL-012   \n",
       "3    California Ave & Cortez St            17660   \n",
       "4    California Ave & Cortez St            17660   \n",
       "\n",
       "                 end_station_name end_station_id  start_lat  start_lng  \\\n",
       "0    Halsted St & North Branch St   KA1504000117  41.883984 -87.624684   \n",
       "1            Wood St & Hubbard St          13432  41.900363 -87.696704   \n",
       "2            Rush St & Hubbard St   KA1503000044  41.860384 -87.625813   \n",
       "3         Carpenter St & Huron St          13196  41.900363 -87.696704   \n",
       "4  Elizabeth (May) St & Fulton St          13197  41.900350 -87.696682   \n",
       "\n",
       "     end_lat    end_lng member_casual  \n",
       "0  41.899368 -87.648480        casual  \n",
       "1  41.889899 -87.671473        casual  \n",
       "2  41.890173 -87.626185        member  \n",
       "3  41.894556 -87.653449        member  \n",
       "4  41.886593 -87.658387        casual  "
      ]
     },
     "execution_count": 4,
     "metadata": {},
     "output_type": "execute_result"
    }
   ],
   "source": [
    "df.head()"
   ]
  },
  {
   "cell_type": "code",
   "execution_count": 5,
   "metadata": {},
   "outputs": [
    {
     "name": "stdout",
     "output_type": "stream",
     "text": [
      "<class 'pandas.core.frame.DataFrame'>\n",
      "RangeIndex: 5900385 entries, 0 to 5900384\n",
      "Data columns (total 13 columns):\n",
      " #   Column              Dtype  \n",
      "---  ------              -----  \n",
      " 0   ride_id             object \n",
      " 1   rideable_type       object \n",
      " 2   started_at          object \n",
      " 3   ended_at            object \n",
      " 4   start_station_name  object \n",
      " 5   start_station_id    object \n",
      " 6   end_station_name    object \n",
      " 7   end_station_id      object \n",
      " 8   start_lat           float64\n",
      " 9   start_lng           float64\n",
      " 10  end_lat             float64\n",
      " 11  end_lng             float64\n",
      " 12  member_casual       object \n",
      "dtypes: float64(4), object(9)\n",
      "memory usage: 585.2+ MB\n"
     ]
    }
   ],
   "source": [
    "df.info()"
   ]
  },
  {
   "cell_type": "code",
   "execution_count": 6,
   "metadata": {},
   "outputs": [
    {
     "data": {
      "text/plain": [
       "ride_id                    0\n",
       "rideable_type              0\n",
       "started_at                 0\n",
       "ended_at                   0\n",
       "start_station_name    836018\n",
       "start_station_id      836015\n",
       "end_station_name      892103\n",
       "end_station_id        892103\n",
       "start_lat                  0\n",
       "start_lng                  0\n",
       "end_lat                 5374\n",
       "end_lng                 5374\n",
       "member_casual              0\n",
       "dtype: int64"
      ]
     },
     "execution_count": 6,
     "metadata": {},
     "output_type": "execute_result"
    }
   ],
   "source": [
    "df.isnull().sum()"
   ]
  },
  {
   "cell_type": "markdown",
   "metadata": {},
   "source": [
    "There are missing values on station column and ending position. However, in the scope of this analysis, we will not use the information about location."
   ]
  },
  {
   "cell_type": "markdown",
   "metadata": {},
   "source": [
    "### Check the label in 'member_casual' column"
   ]
  },
  {
   "cell_type": "markdown",
   "metadata": {},
   "source": [
    "Before 2020, Cyclistic used different labels for these two types of riders. This data is from 2021 but we still want to confirm that the categorical terms for casual riders (“casual”) and annual members (“members”) are still being used."
   ]
  },
  {
   "cell_type": "code",
   "execution_count": 7,
   "metadata": {},
   "outputs": [
    {
     "data": {
      "text/plain": [
       "member    3342158\n",
       "casual    2558227\n",
       "Name: member_casual, dtype: int64"
      ]
     },
     "execution_count": 7,
     "metadata": {},
     "output_type": "execute_result"
    }
   ],
   "source": [
    "df['member_casual'].value_counts()"
   ]
  },
  {
   "cell_type": "markdown",
   "metadata": {},
   "source": [
    "### Creating new variables"
   ]
  },
  {
   "cell_type": "markdown",
   "metadata": {},
   "source": [
    "Add columns for month, day, weekday..."
   ]
  },
  {
   "cell_type": "code",
   "execution_count": 8,
   "metadata": {},
   "outputs": [],
   "source": [
    "# convert started_at and ended_at to date time\n",
    "df['started_at'] = pd.to_datetime(df['started_at'])\n",
    "df['ended_at'] = pd.to_datetime(df['ended_at'])"
   ]
  },
  {
   "cell_type": "code",
   "execution_count": 9,
   "metadata": {},
   "outputs": [
    {
     "data": {
      "text/html": [
       "<div>\n",
       "<style scoped>\n",
       "    .dataframe tbody tr th:only-of-type {\n",
       "        vertical-align: middle;\n",
       "    }\n",
       "\n",
       "    .dataframe tbody tr th {\n",
       "        vertical-align: top;\n",
       "    }\n",
       "\n",
       "    .dataframe thead th {\n",
       "        text-align: right;\n",
       "    }\n",
       "</style>\n",
       "<table border=\"1\" class=\"dataframe\">\n",
       "  <thead>\n",
       "    <tr style=\"text-align: right;\">\n",
       "      <th></th>\n",
       "      <th>date</th>\n",
       "      <th>year_month</th>\n",
       "      <th>day_of_week</th>\n",
       "      <th>day_type</th>\n",
       "      <th>hour</th>\n",
       "    </tr>\n",
       "  </thead>\n",
       "  <tbody>\n",
       "    <tr>\n",
       "      <th>0</th>\n",
       "      <td>2021-07-02</td>\n",
       "      <td>2021-07</td>\n",
       "      <td>Friday</td>\n",
       "      <td>Weekday</td>\n",
       "      <td>14</td>\n",
       "    </tr>\n",
       "    <tr>\n",
       "      <th>1</th>\n",
       "      <td>2021-07-07</td>\n",
       "      <td>2021-07</td>\n",
       "      <td>Wednesday</td>\n",
       "      <td>Weekday</td>\n",
       "      <td>16</td>\n",
       "    </tr>\n",
       "    <tr>\n",
       "      <th>2</th>\n",
       "      <td>2021-07-25</td>\n",
       "      <td>2021-07</td>\n",
       "      <td>Sunday</td>\n",
       "      <td>Weekend</td>\n",
       "      <td>11</td>\n",
       "    </tr>\n",
       "    <tr>\n",
       "      <th>3</th>\n",
       "      <td>2021-07-08</td>\n",
       "      <td>2021-07</td>\n",
       "      <td>Thursday</td>\n",
       "      <td>Weekday</td>\n",
       "      <td>22</td>\n",
       "    </tr>\n",
       "    <tr>\n",
       "      <th>4</th>\n",
       "      <td>2021-07-28</td>\n",
       "      <td>2021-07</td>\n",
       "      <td>Wednesday</td>\n",
       "      <td>Weekday</td>\n",
       "      <td>16</td>\n",
       "    </tr>\n",
       "  </tbody>\n",
       "</table>\n",
       "</div>"
      ],
      "text/plain": [
       "         date year_month day_of_week day_type  hour\n",
       "0  2021-07-02    2021-07      Friday  Weekday    14\n",
       "1  2021-07-07    2021-07   Wednesday  Weekday    16\n",
       "2  2021-07-25    2021-07      Sunday  Weekend    11\n",
       "3  2021-07-08    2021-07    Thursday  Weekday    22\n",
       "4  2021-07-28    2021-07   Wednesday  Weekday    16"
      ]
     },
     "execution_count": 9,
     "metadata": {},
     "output_type": "execute_result"
    }
   ],
   "source": [
    "# add date, year_month, day_of_week columns\n",
    "df['date'] = df['started_at'].dt.date\n",
    "df['year_month'] = df['started_at'].dt.to_period('M')\n",
    "df['day_of_week'] = df['started_at'].dt.day_name()\n",
    "df['day_type'] = df['day_of_week'].apply(lambda t: 'Weekend' if t in ['Saturday', 'Sunday'] else 'Weekday')\n",
    "df['hour'] = df['started_at'].dt.hour\n",
    "df[['date', 'year_month', 'day_of_week', 'day_type', 'hour']].head()"
   ]
  },
  {
   "cell_type": "code",
   "execution_count": 10,
   "metadata": {},
   "outputs": [],
   "source": [
    "# create catogorical to order day of week\n",
    "df['day_of_week'] = pd.Categorical(\n",
    "    df['day_of_week'], \n",
    "    categories = ['Monday','Tuesday','Wednesday','Thursday','Friday','Saturday', 'Sunday'],\n",
    "    ordered=True)"
   ]
  },
  {
   "cell_type": "markdown",
   "metadata": {},
   "source": [
    "Add a \"ride_length\" calculation to all_trips (in minutes)"
   ]
  },
  {
   "cell_type": "code",
   "execution_count": 11,
   "metadata": {},
   "outputs": [
    {
     "data": {
      "text/plain": [
       "0    35.366667\n",
       "1    18.450000\n",
       "2    17.833333\n",
       "3    15.033333\n",
       "4    19.050000\n",
       "Name: ride_length, dtype: float64"
      ]
     },
     "execution_count": 11,
     "metadata": {},
     "output_type": "execute_result"
    }
   ],
   "source": [
    "df['ride_length'] = (df['ended_at'] - df['started_at']).dt.total_seconds() / 60\n",
    "df['ride_length'].head()"
   ]
  },
  {
   "cell_type": "markdown",
   "metadata": {},
   "source": [
    "### Remove \"bad\" data\n"
   ]
  },
  {
   "cell_type": "markdown",
   "metadata": {},
   "source": [
    "Next we check if there are entries when bikes were taken out of docks and checked for quality by Cycilstic or when ride_length was negative."
   ]
  },
  {
   "cell_type": "code",
   "execution_count": 12,
   "metadata": {},
   "outputs": [
    {
     "data": {
      "text/html": [
       "<div>\n",
       "<style scoped>\n",
       "    .dataframe tbody tr th:only-of-type {\n",
       "        vertical-align: middle;\n",
       "    }\n",
       "\n",
       "    .dataframe tbody tr th {\n",
       "        vertical-align: top;\n",
       "    }\n",
       "\n",
       "    .dataframe thead th {\n",
       "        text-align: right;\n",
       "    }\n",
       "</style>\n",
       "<table border=\"1\" class=\"dataframe\">\n",
       "  <thead>\n",
       "    <tr style=\"text-align: right;\">\n",
       "      <th></th>\n",
       "      <th>ride_id</th>\n",
       "      <th>rideable_type</th>\n",
       "      <th>started_at</th>\n",
       "      <th>ended_at</th>\n",
       "      <th>start_station_name</th>\n",
       "      <th>start_station_id</th>\n",
       "      <th>end_station_name</th>\n",
       "      <th>end_station_id</th>\n",
       "      <th>start_lat</th>\n",
       "      <th>start_lng</th>\n",
       "      <th>end_lat</th>\n",
       "      <th>end_lng</th>\n",
       "      <th>member_casual</th>\n",
       "      <th>date</th>\n",
       "      <th>year_month</th>\n",
       "      <th>day_of_week</th>\n",
       "      <th>day_type</th>\n",
       "      <th>hour</th>\n",
       "      <th>ride_length</th>\n",
       "    </tr>\n",
       "  </thead>\n",
       "  <tbody>\n",
       "  </tbody>\n",
       "</table>\n",
       "</div>"
      ],
      "text/plain": [
       "Empty DataFrame\n",
       "Columns: [ride_id, rideable_type, started_at, ended_at, start_station_name, start_station_id, end_station_name, end_station_id, start_lat, start_lng, end_lat, end_lng, member_casual, date, year_month, day_of_week, day_type, hour, ride_length]\n",
       "Index: []"
      ]
     },
     "execution_count": 12,
     "metadata": {},
     "output_type": "execute_result"
    }
   ],
   "source": [
    "# check if there are entries when bikes were taken out of docks and checked for quality\n",
    "df[df['start_station_name'] == 'HQ QR']"
   ]
  },
  {
   "cell_type": "code",
   "execution_count": 13,
   "metadata": {},
   "outputs": [
    {
     "data": {
      "text/plain": [
       "146"
      ]
     },
     "execution_count": 13,
     "metadata": {},
     "output_type": "execute_result"
    }
   ],
   "source": [
    "# check if ride_length was negative\n",
    "df['ride_id'][df['ride_length'] < 0].count()"
   ]
  },
  {
   "cell_type": "markdown",
   "metadata": {},
   "source": [
    "The dataframe includes 146 entries (0.002% of the total rows) when ride_length was negative. We will create a new dataframe bike_df with only valid rows and relevant columns for our analysis.\n"
   ]
  },
  {
   "cell_type": "code",
   "execution_count": 14,
   "metadata": {},
   "outputs": [
    {
     "name": "stdout",
     "output_type": "stream",
     "text": [
      "<class 'pandas.core.frame.DataFrame'>\n",
      "Int64Index: 5900239 entries, 0 to 5900384\n",
      "Data columns (total 8 columns):\n",
      " #   Column         Dtype    \n",
      "---  ------         -----    \n",
      " 0   rideable_type  object   \n",
      " 1   member_casual  object   \n",
      " 2   date           object   \n",
      " 3   year_month     period[M]\n",
      " 4   day_of_week    category \n",
      " 5   day_type       object   \n",
      " 6   hour           int64    \n",
      " 7   ride_length    float64  \n",
      "dtypes: category(1), float64(1), int64(1), object(4), period[M](1)\n",
      "memory usage: 365.7+ MB\n"
     ]
    }
   ],
   "source": [
    "col = ['rideable_type','member_casual', 'date', 'year_month', 'day_of_week', 'day_type', 'hour', 'ride_length']\n",
    "bike_df = df[col][df['ride_length'] >= 0]\n",
    "bike_df.info()"
   ]
  },
  {
   "cell_type": "markdown",
   "metadata": {},
   "source": [
    "## Conduct descriptive analysis"
   ]
  },
  {
   "cell_type": "markdown",
   "metadata": {},
   "source": [
    "### Simple statistics to understand data layout"
   ]
  },
  {
   "cell_type": "markdown",
   "metadata": {},
   "source": [
    "First, let's look at the number of rides and ride duration by customer types."
   ]
  },
  {
   "cell_type": "code",
   "execution_count": 15,
   "metadata": {},
   "outputs": [
    {
     "data": {
      "text/plain": [
       "member    56.643078\n",
       "casual    43.356922\n",
       "Name: member_casual, dtype: float64"
      ]
     },
     "execution_count": 15,
     "metadata": {},
     "output_type": "execute_result"
    }
   ],
   "source": [
    "# percentage of number of rides by customer type\n",
    "bike_df['member_casual'].value_counts() / len(bike_df) * 100"
   ]
  },
  {
   "cell_type": "markdown",
   "metadata": {},
   "source": [
    "Overall, members tend to use the servises more often than casual riders. 56% of all trips were made by members, while the remaining 43% of trips were undertaken by casual riders.\n",
    "\n"
   ]
  },
  {
   "cell_type": "code",
   "execution_count": 16,
   "metadata": {},
   "outputs": [
    {
     "data": {
      "text/plain": [
       "count    5900239.0\n",
       "mean          20.0\n",
       "std          155.0\n",
       "min            0.0\n",
       "25%            6.0\n",
       "50%           11.0\n",
       "75%           20.0\n",
       "max        49107.0\n",
       "Name: ride_length, dtype: float64"
      ]
     },
     "execution_count": 16,
     "metadata": {},
     "output_type": "execute_result"
    }
   ],
   "source": [
    "# statistic summary on ride_length for all trips\n",
    "bike_df['ride_length'].describe().round()"
   ]
  },
  {
   "cell_type": "code",
   "execution_count": 17,
   "metadata": {},
   "outputs": [
    {
     "data": {
      "text/html": [
       "<div>\n",
       "<style scoped>\n",
       "    .dataframe tbody tr th:only-of-type {\n",
       "        vertical-align: middle;\n",
       "    }\n",
       "\n",
       "    .dataframe tbody tr th {\n",
       "        vertical-align: top;\n",
       "    }\n",
       "\n",
       "    .dataframe thead tr th {\n",
       "        text-align: left;\n",
       "    }\n",
       "\n",
       "    .dataframe thead tr:last-of-type th {\n",
       "        text-align: right;\n",
       "    }\n",
       "</style>\n",
       "<table border=\"1\" class=\"dataframe\">\n",
       "  <thead>\n",
       "    <tr>\n",
       "      <th></th>\n",
       "      <th colspan=\"5\" halign=\"left\">ride_length</th>\n",
       "    </tr>\n",
       "    <tr>\n",
       "      <th></th>\n",
       "      <th>count</th>\n",
       "      <th>min</th>\n",
       "      <th>median</th>\n",
       "      <th>mean</th>\n",
       "      <th>max</th>\n",
       "    </tr>\n",
       "    <tr>\n",
       "      <th>member_casual</th>\n",
       "      <th></th>\n",
       "      <th></th>\n",
       "      <th></th>\n",
       "      <th></th>\n",
       "      <th></th>\n",
       "    </tr>\n",
       "  </thead>\n",
       "  <tbody>\n",
       "    <tr>\n",
       "      <th>casual</th>\n",
       "      <td>2558162</td>\n",
       "      <td>0.0</td>\n",
       "      <td>14.850000</td>\n",
       "      <td>29.820640</td>\n",
       "      <td>49107.15</td>\n",
       "    </tr>\n",
       "    <tr>\n",
       "      <th>member</th>\n",
       "      <td>3342077</td>\n",
       "      <td>0.0</td>\n",
       "      <td>9.066667</td>\n",
       "      <td>12.983276</td>\n",
       "      <td>1559.90</td>\n",
       "    </tr>\n",
       "  </tbody>\n",
       "</table>\n",
       "</div>"
      ],
      "text/plain": [
       "              ride_length                                     \n",
       "                    count  min     median       mean       max\n",
       "member_casual                                                 \n",
       "casual            2558162  0.0  14.850000  29.820640  49107.15\n",
       "member            3342077  0.0   9.066667  12.983276   1559.90"
      ]
     },
     "execution_count": 17,
     "metadata": {},
     "output_type": "execute_result"
    }
   ],
   "source": [
    "# statistic summary on ride_length by customer types\n",
    "bike_df.groupby(['member_casual']).agg({'ride_length': ['count', 'min', 'median', 'mean', 'max']})"
   ]
  },
  {
   "cell_type": "markdown",
   "metadata": {},
   "source": [
    "The max value seems to indicate that there are significant outliers in the data. Let's draw boxplot to take a closer look on the duration range."
   ]
  },
  {
   "cell_type": "code",
   "execution_count": 18,
   "metadata": {},
   "outputs": [
    {
     "data": {
      "image/png": "[encoded data removed]",
      "text/plain": [
       "<Figure size 720x432 with 2 Axes>"
      ]
     },
     "metadata": {
      "needs_background": "light"
     },
     "output_type": "display_data"
    }
   ],
   "source": [
    "fig, (ax1, ax2) = plt.subplots(nrows=1, ncols=2,figsize=(10,6))\n",
    "fig.suptitle('Duration: Casual vs. Member')\n",
    "\n",
    "sns.boxplot(ax=ax1, data=bike_df, x='member_casual', y='ride_length')\n",
    "ax1. set_title('With outliers')\n",
    "ax1.set(ylabel='Duration', xlabel='Rider type')\n",
    "\n",
    "sns.boxplot(ax=ax2, data=bike_df, x='member_casual', y='ride_length', showfliers=False)\n",
    "ax2. set_title('Without outliers')\n",
    "ax2.set(ylabel='Duration', xlabel='Rider type')\n",
    "\n",
    "plt.subplots_adjust(wspace=0.3)"
   ]
  },
  {
   "cell_type": "markdown",
   "metadata": {},
   "source": [
    "Looking at the plot and statistic summary, one can conclude that the casual riders often took longer trips than members. However, note that there are a remarkable number of outliers, especially in case of casuals, which can heavily skew the mean values. Hence, in this analysis, we will look at both mean and median when comparing the ride duration."
   ]
  },
  {
   "cell_type": "markdown",
   "metadata": {},
   "source": [
    "### Compare customer types by day of the week"
   ]
  },
  {
   "cell_type": "code",
   "execution_count": 19,
   "metadata": {},
   "outputs": [],
   "source": [
    "# ride time & number of rides by weekday\n",
    "byweekday = bike_df.groupby(['day_of_week', 'member_casual']).agg(\n",
    "    number_of_rides=('ride_length','count'),\n",
    "    avg_ride_length=('ride_length','mean'),\n",
    "    median_ride_length=('ride_length','median')).reset_index()"
   ]
  },
  {
   "cell_type": "code",
   "execution_count": 20,
   "metadata": {
    "tags": []
   },
   "outputs": [
    {
     "data": {
      "text/plain": [
       "<matplotlib.legend.Legend at 0x1aa140200d0>"
      ]
     },
     "execution_count": 20,
     "metadata": {},
     "output_type": "execute_result"
    },
    {
     "data": {
      "image/png": "[encoded data removed]",
      "text/plain": [
       "<Figure size 576x432 with 1 Axes>"
      ]
     },
     "metadata": {
      "needs_background": "light"
     },
     "output_type": "display_data"
    }
   ],
   "source": [
    "# visualize the number of rides by weekday\n",
    "plt.figure(figsize=(8, 6))\n",
    "sns.barplot(data=byweekday, x='day_of_week', y='number_of_rides', hue='member_casual')\n",
    "plt.title('Number of Rides by weekday: Casual vs. Member')\n",
    "plt.xlabel('Day of Week')\n",
    "plt.ylabel('Number of Rides')\n",
    "\n",
    "# add thousands separator\n",
    "plt.gca().get_yaxis().set_major_formatter(StrMethodFormatter('{x:,.0f}'))\n",
    "\n",
    "# set location legend\n",
    "plt.legend(title='Rider type', loc='center left', bbox_to_anchor=(1.05, 0.5))"
   ]
  },
  {
   "cell_type": "markdown",
   "metadata": {},
   "source": [
    "There is an opposite trend in the number of rides per day of the week by members and casual riders. Specifically, casuals tend to use the services more during weekend, perhaps indicating that they prefer to use it for leisure, while members seem to use the service regularly throughout the week (slightly higher in the middle of the week), which might suggest that they are likely use bikes to commute to work each day."
   ]
  },
  {
   "cell_type": "code",
   "execution_count": 21,
   "metadata": {},
   "outputs": [
    {
     "data": {
      "image/png": "[encoded data removed]",
      "text/plain": [
       "<Figure size 1008x432 with 2 Axes>"
      ]
     },
     "metadata": {
      "needs_background": "light"
     },
     "output_type": "display_data"
    }
   ],
   "source": [
    "# visualize the ride length by weekday\n",
    "fig, (ax1, ax2) = plt.subplots(nrows=1, ncols=2,figsize=(14,6), sharex=True, sharey=True)\n",
    "fig.suptitle('Duration by weekday: Casual vs. Member')\n",
    "fig.supxlabel('Day of Week')\n",
    "fig.supylabel('Duration')\n",
    "\n",
    "sns.barplot(ax= ax1, data=byweekday, x='day_of_week', y='avg_ride_length', hue='member_casual')\n",
    "ax1.set_title('Average')\n",
    "ax1.set(xlabel=None, ylabel=None)\n",
    "ax1.get_legend().remove()\n",
    "\n",
    "sns.barplot(ax= ax2, data=byweekday, x='day_of_week', y='median_ride_length', hue='member_casual')\n",
    "ax2.set_title('Median')\n",
    "ax2.set(xlabel=None, ylabel=None)\n",
    "\n",
    "plt.legend(title='Rider type', loc='center left', bbox_to_anchor=(1.05, 0.5))\n",
    "plt.tight_layout()"
   ]
  },
  {
   "cell_type": "markdown",
   "metadata": {},
   "source": [
    "Likewise, casual riders also uses the bike longer on weekend whilst members have constant rider time for the whole week."
   ]
  },
  {
   "cell_type": "markdown",
   "metadata": {},
   "source": [
    "### Compare customer types by month"
   ]
  },
  {
   "cell_type": "code",
   "execution_count": 22,
   "metadata": {},
   "outputs": [],
   "source": [
    "# ride time & number of rides by month\n",
    "bymonth = bike_df.groupby(['year_month', 'member_casual']).agg(\n",
    "    number_of_rides=('ride_length','count'),\n",
    "    avg_ride_length=('ride_length','mean'),\n",
    "    median_ride_length=('ride_length','median')).reset_index()"
   ]
  },
  {
   "cell_type": "code",
   "execution_count": 23,
   "metadata": {},
   "outputs": [
    {
     "data": {
      "text/plain": [
       "<matplotlib.legend.Legend at 0x1aa1458c220>"
      ]
     },
     "execution_count": 23,
     "metadata": {},
     "output_type": "execute_result"
    },
    {
     "data": {
      "image/png": "[encoded data removed]",
      "text/plain": [
       "<Figure size 720x432 with 1 Axes>"
      ]
     },
     "metadata": {
      "needs_background": "light"
     },
     "output_type": "display_data"
    }
   ],
   "source": [
    "# visualize the number of rides by month\n",
    "plt.figure(figsize=(10, 6))\n",
    "sns.barplot(data=bymonth, x='year_month', y='number_of_rides', hue='member_casual')\n",
    "plt.title('Number of Rides by month: Casual vs. Member')\n",
    "plt.xlabel('Month')\n",
    "plt.ylabel('Number of Rides')\n",
    "plt.tick_params(axis='x', rotation=45)\n",
    "\n",
    "# add thousands separator\n",
    "plt.gca().get_yaxis().set_major_formatter(StrMethodFormatter('{x:,.0f}'))\n",
    "\n",
    "# set location legend\n",
    "plt.legend(title='Rider type', loc='center left', bbox_to_anchor=(1.05, 0.5))"
   ]
  },
  {
   "cell_type": "markdown",
   "metadata": {},
   "source": [
    "The plot shows a strong correlation between the months and the number of rides for both rider types. One reasonable explanation is that people prefer to travel by bicycle in warmer weather (July-August) than colder weather (January-February)."
   ]
  },
  {
   "cell_type": "code",
   "execution_count": 24,
   "metadata": {},
   "outputs": [
    {
     "data": {
      "image/png": "[encoded data removed]",
      "text/plain": [
       "<Figure size 1008x432 with 2 Axes>"
      ]
     },
     "metadata": {
      "needs_background": "light"
     },
     "output_type": "display_data"
    }
   ],
   "source": [
    "# visualize the average ride length by month\n",
    "fig, (ax1, ax2) = plt.subplots(nrows=1, ncols=2,figsize=(14,6), sharex=True, sharey=True)\n",
    "fig.suptitle('Duration by weekday: Casual vs. Member')\n",
    "fig.supxlabel('Month')\n",
    "fig.supylabel('Duration')\n",
    "\n",
    "sns.barplot(ax= ax1, data=bymonth, x='year_month', y='avg_ride_length', hue='member_casual')\n",
    "ax1.set_title('Average')\n",
    "ax1.set(xlabel=None, ylabel=None)\n",
    "ax1.tick_params(axis='x', rotation=45)\n",
    "ax1.get_legend().remove()\n",
    "\n",
    "sns.barplot(ax= ax2, data=bymonth, x='year_month', y='median_ride_length', hue='member_casual')\n",
    "ax2.set_title('Median')\n",
    "ax2.set(xlabel=None, ylabel=None)\n",
    "ax2.tick_params(axis='x', rotation=45)\n",
    "\n",
    "plt.legend(title='Rider type', loc='center left', bbox_to_anchor=(1.05, 0.5))\n",
    "plt.tight_layout()"
   ]
  },
  {
   "cell_type": "markdown",
   "metadata": {},
   "source": [
    "On the other hand, the ride time doesn't seem to be affected that much by the weather. In fact, looking at the average length, some casual riders even seem to have extremely long rides during the coldest month (January-March)."
   ]
  },
  {
   "cell_type": "markdown",
   "metadata": {},
   "source": [
    "### Compare customer types by time of the day"
   ]
  },
  {
   "cell_type": "code",
   "execution_count": 25,
   "metadata": {},
   "outputs": [],
   "source": [
    "# number of rides by hour\n",
    "byhour = bike_df.groupby(['day_type', 'hour', 'member_casual'])['ride_length'].count().reset_index().rename(columns={'ride_length': 'number_of_rides'})"
   ]
  },
  {
   "cell_type": "code",
   "execution_count": 26,
   "metadata": {},
   "outputs": [
    {
     "data": {
      "image/png": "[encoded data removed]",
      "text/plain": [
       "<Figure size 725.875x432 with 4 Axes>"
      ]
     },
     "metadata": {
      "needs_background": "light"
     },
     "output_type": "display_data"
    }
   ],
   "source": [
    "# visualze number of rides by hour\n",
    "g = sns.FacetGrid(byhour, col='day_type', row='member_casual', hue='member_casual',height= 3, aspect=1.5)\n",
    "g.map(plt.bar, \"hour\", \"number_of_rides\")\n",
    "g.add_legend(title='Rider type', loc='center left', bbox_to_anchor=(1.05, 0.5))\n",
    "g.set_axis_labels('Hour of Day', 'Number of Rides')\n",
    "g.fig.suptitle('Number of Rides by hour: Casual vs. Member')\n",
    "g.set_titles(template=\"{col_name}\")\n",
    "\n",
    "# add thousands separator\n",
    "for ax in g.axes[:,0]:\n",
    "    ax.get_yaxis().set_major_formatter(StrMethodFormatter('{x:,.0f}'))\n",
    "\n",
    "plt.tight_layout()"
   ]
  },
  {
   "cell_type": "markdown",
   "metadata": {},
   "source": [
    "The distribution of rides by hour in weekend is relatively similar for both rider types. For weekday, there are two peak hours for members, 8AM and 5PM, which likely show that they often use the service to commute to work while for casual riders, there is only one peak at 5PM."
   ]
  },
  {
   "cell_type": "markdown",
   "metadata": {},
   "source": [
    "### Compare customer types by rideable type"
   ]
  },
  {
   "cell_type": "code",
   "execution_count": 27,
   "metadata": {},
   "outputs": [],
   "source": [
    "# number of rides by rideable type\n",
    "byrideable = bike_df.groupby(['rideable_type', 'member_casual'])['ride_length'].count().reset_index().rename(columns={'ride_length': 'number_of_rides'})"
   ]
  },
  {
   "cell_type": "code",
   "execution_count": 28,
   "metadata": {},
   "outputs": [
    {
     "data": {
      "text/plain": [
       "<matplotlib.legend.Legend at 0x1aa1437c7c0>"
      ]
     },
     "execution_count": 28,
     "metadata": {},
     "output_type": "execute_result"
    },
    {
     "data": {
      "image/png": "[encoded data removed]",
      "text/plain": [
       "<Figure size 576x432 with 1 Axes>"
      ]
     },
     "metadata": {
      "needs_background": "light"
     },
     "output_type": "display_data"
    }
   ],
   "source": [
    "# visualize the number of rides by rideable type\n",
    "plt.figure(figsize=(8, 6))\n",
    "sns.barplot(data=byrideable, x='rideable_type', y='number_of_rides', hue='member_casual')\n",
    "plt.title('Number of Rides by Ride type: Casual vs. Member')\n",
    "plt.xlabel('Rideable type')\n",
    "plt.ylabel('Number of Rides')\n",
    "\n",
    "# add thousands separator\n",
    "plt.gca().get_yaxis().set_major_formatter(StrMethodFormatter('{x:,.0f}'))\n",
    "\n",
    "# set location legend\n",
    "plt.legend(title='Rider type', loc='center left', bbox_to_anchor=(1.05, 0.5))"
   ]
  },
  {
   "cell_type": "markdown",
   "metadata": {},
   "source": [
    "While classic bikes are clearly the most popular option for members, casual riders use classic bikes and electric bikes almost equally. It's also worth noting that docked bikes are the most uncommon and are used by only casuals."
   ]
  },
  {
   "cell_type": "markdown",
   "metadata": {},
   "source": [
    "## Findings and Recommendations"
   ]
  },
  {
   "cell_type": "markdown",
   "metadata": {},
   "source": [
    "### Key Takeaways"
   ]
  },
  {
   "cell_type": "markdown",
   "metadata": {},
   "source": [
    "* Members have more ride trips than casuals but casuals tend to take longer trips, some even up to multiple days.\n",
    "* Casuals use the service significantly more during weekend while members use the service constantly throughout the week.\n",
    "* Both riders enjoy cycling when the weather is warmer however some of the casuals' lengthy rides still take place during the cold months.\n",
    "* Members have two peak demand hours (8AM & 5PM) during weekday while casuals only have one peak at 5PM.\n",
    "* Docked bikes are the most uncommon type and are used by only casuals."
   ]
  },
  {
   "cell_type": "markdown",
   "metadata": {},
   "source": [
    "### Recommendations"
   ]
  },
  {
   "cell_type": "markdown",
   "metadata": {},
   "source": [
    "Based on the above findings, here are our recommendations:\n",
    "* Introduce a members-only rewards program based on trip duration to incentivize casual riders to sign up for membership. Track and notify trip cumulative totals to customers via mobile app/mail when they reach new levels/rewards.\n",
    "* Offer special deals (single-ride/full-day passes) on: \n",
    "    * weekdays, especially at 8-9AM to create the habit of commuting to work; and\n",
    "    * winter months (December-March) to encourage casual riders to use services in non-busy season.\n",
    "* Provide special discount short-term membership package (3-6 months) to casual customers who use docked bike or who had a ride trip that longer than a specific time."
   ]
  }
 ],
 "metadata": {
  "kernelspec": {
   "display_name": "Python 3 (ipykernel)",
   "language": "python",
   "name": "python3"
  },
  "language_info": {
   "codemirror_mode": {
    "name": "ipython",
    "version": 3
   },
   "file_extension": ".py",
   "mimetype": "text/x-python",
   "name": "python",
   "nbconvert_exporter": "python",
   "pygments_lexer": "ipython3",
   "version": "3.9.12"
  },
  "toc": {
   "base_numbering": 1,
   "nav_menu": {},
   "number_sections": true,
   "sideBar": true,
   "skip_h1_title": false,
   "title_cell": "Table of Contents",
   "title_sidebar": "Contents",
   "toc_cell": false,
   "toc_position": {},
   "toc_section_display": true,
   "toc_window_display": false
  },
  "varInspector": {
   "cols": {
    "lenName": 16,
    "lenType": 16,
    "lenVar": 40
   },
   "kernels_config": {
    "python": {
     "delete_cmd_postfix": "",
     "delete_cmd_prefix": "del ",
     "library": "var_list.py",
     "varRefreshCmd": "print(var_dic_list())"
    },
    "r": {
     "delete_cmd_postfix": ") ",
     "delete_cmd_prefix": "rm(",
     "library": "var_list.r",
     "varRefreshCmd": "cat(var_dic_list()) "
    }
   },
   "types_to_exclude": [
    "module",
    "function",
    "builtin_function_or_method",
    "instance",
    "_Feature"
   ],
   "window_display": false
  },
  "vscode": {
   "interpreter": {
    "hash": "960f2ae499b536958d588fcafb5f9e40dd995fc898e4b79db932caf22756042a"
   }
  }
 },
 "nbformat": 4,
 "nbformat_minor": 4
}
